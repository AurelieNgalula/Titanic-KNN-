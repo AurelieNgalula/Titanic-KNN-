{
 "cells": [
  {
   "cell_type": "code",
   "execution_count": 2,
   "id": "29de3eb1",
   "metadata": {},
   "outputs": [],
   "source": [
    "#packages\n",
    "import numpy as np\n",
    "import pandas as pd\n",
    "import seaborn as sns\n",
    "import matplotlib.pyplot as plt\n",
    "\n",
    "from sklearn.neighbors import KNeighborsClassifier\n",
    "from sklearn.model_selection import train_test_split, GridSearchCV\n",
    "from sklearn.model_selection import train_test_split\n",
    "from sklearn.preprocessing import MinMaxScaler\n",
    "from sklearn.metrics import  accuracy_score,precision_score, recall_score,confusion_matrix\n",
    "from scipy.stats import randint\n",
    "import time\n",
    "import os\n",
    "for dirname, _, filenames in os.walk('/kaggle/input'):\n",
    "    for filename in filenames:\n",
    "        print(os.path.join(dirname, filename))"
   ]
  },
  {
   "cell_type": "code",
   "execution_count": 38,
   "id": "c70626e7",
   "metadata": {},
   "outputs": [],
   "source": [
    "# Data import\n",
    "\n",
    "train = pd.read_csv(\"/kaggle/input/titanic/train.csv\")\n",
    "test =  pd.read_csv(\"/kaggle/input/titanic/test.csv\")"
   ]
  },
  {
   "cell_type": "code",
   "execution_count": 39,
   "id": "d49247e1",
   "metadata": {},
   "outputs": [
    {
     "data": {
      "text/html": [
       "<div>\n",
       "<style scoped>\n",
       "    .dataframe tbody tr th:only-of-type {\n",
       "        vertical-align: middle;\n",
       "    }\n",
       "\n",
       "    .dataframe tbody tr th {\n",
       "        vertical-align: top;\n",
       "    }\n",
       "\n",
       "    .dataframe thead th {\n",
       "        text-align: right;\n",
       "    }\n",
       "</style>\n",
       "<table border=\"1\" class=\"dataframe\">\n",
       "  <thead>\n",
       "    <tr style=\"text-align: right;\">\n",
       "      <th></th>\n",
       "      <th>PassengerId</th>\n",
       "      <th>Survived</th>\n",
       "      <th>Pclass</th>\n",
       "      <th>Name</th>\n",
       "      <th>Sex</th>\n",
       "      <th>Age</th>\n",
       "      <th>SibSp</th>\n",
       "      <th>Parch</th>\n",
       "      <th>Ticket</th>\n",
       "      <th>Fare</th>\n",
       "      <th>Cabin</th>\n",
       "      <th>Embarked</th>\n",
       "    </tr>\n",
       "  </thead>\n",
       "  <tbody>\n",
       "    <tr>\n",
       "      <th>0</th>\n",
       "      <td>1</td>\n",
       "      <td>0</td>\n",
       "      <td>3</td>\n",
       "      <td>Braund, Mr. Owen Harris</td>\n",
       "      <td>male</td>\n",
       "      <td>22.0</td>\n",
       "      <td>1</td>\n",
       "      <td>0</td>\n",
       "      <td>A/5 21171</td>\n",
       "      <td>7.2500</td>\n",
       "      <td>NaN</td>\n",
       "      <td>S</td>\n",
       "    </tr>\n",
       "    <tr>\n",
       "      <th>1</th>\n",
       "      <td>2</td>\n",
       "      <td>1</td>\n",
       "      <td>1</td>\n",
       "      <td>Cumings, Mrs. John Bradley (Florence Briggs Th...</td>\n",
       "      <td>female</td>\n",
       "      <td>38.0</td>\n",
       "      <td>1</td>\n",
       "      <td>0</td>\n",
       "      <td>PC 17599</td>\n",
       "      <td>71.2833</td>\n",
       "      <td>C85</td>\n",
       "      <td>C</td>\n",
       "    </tr>\n",
       "    <tr>\n",
       "      <th>2</th>\n",
       "      <td>3</td>\n",
       "      <td>1</td>\n",
       "      <td>3</td>\n",
       "      <td>Heikkinen, Miss. Laina</td>\n",
       "      <td>female</td>\n",
       "      <td>26.0</td>\n",
       "      <td>0</td>\n",
       "      <td>0</td>\n",
       "      <td>STON/O2. 3101282</td>\n",
       "      <td>7.9250</td>\n",
       "      <td>NaN</td>\n",
       "      <td>S</td>\n",
       "    </tr>\n",
       "    <tr>\n",
       "      <th>3</th>\n",
       "      <td>4</td>\n",
       "      <td>1</td>\n",
       "      <td>1</td>\n",
       "      <td>Futrelle, Mrs. Jacques Heath (Lily May Peel)</td>\n",
       "      <td>female</td>\n",
       "      <td>35.0</td>\n",
       "      <td>1</td>\n",
       "      <td>0</td>\n",
       "      <td>113803</td>\n",
       "      <td>53.1000</td>\n",
       "      <td>C123</td>\n",
       "      <td>S</td>\n",
       "    </tr>\n",
       "    <tr>\n",
       "      <th>4</th>\n",
       "      <td>5</td>\n",
       "      <td>0</td>\n",
       "      <td>3</td>\n",
       "      <td>Allen, Mr. William Henry</td>\n",
       "      <td>male</td>\n",
       "      <td>35.0</td>\n",
       "      <td>0</td>\n",
       "      <td>0</td>\n",
       "      <td>373450</td>\n",
       "      <td>8.0500</td>\n",
       "      <td>NaN</td>\n",
       "      <td>S</td>\n",
       "    </tr>\n",
       "  </tbody>\n",
       "</table>\n",
       "</div>"
      ],
      "text/plain": [
       "   PassengerId  Survived  Pclass  \\\n",
       "0            1         0       3   \n",
       "1            2         1       1   \n",
       "2            3         1       3   \n",
       "3            4         1       1   \n",
       "4            5         0       3   \n",
       "\n",
       "                                                Name     Sex   Age  SibSp  \\\n",
       "0                            Braund, Mr. Owen Harris    male  22.0      1   \n",
       "1  Cumings, Mrs. John Bradley (Florence Briggs Th...  female  38.0      1   \n",
       "2                             Heikkinen, Miss. Laina  female  26.0      0   \n",
       "3       Futrelle, Mrs. Jacques Heath (Lily May Peel)  female  35.0      1   \n",
       "4                           Allen, Mr. William Henry    male  35.0      0   \n",
       "\n",
       "   Parch            Ticket     Fare Cabin Embarked  \n",
       "0      0         A/5 21171   7.2500   NaN        S  \n",
       "1      0          PC 17599  71.2833   C85        C  \n",
       "2      0  STON/O2. 3101282   7.9250   NaN        S  \n",
       "3      0            113803  53.1000  C123        S  \n",
       "4      0            373450   8.0500   NaN        S  "
      ]
     },
     "execution_count": 39,
     "metadata": {},
     "output_type": "execute_result"
    }
   ],
   "source": [
    "train.head()"
   ]
  },
  {
   "cell_type": "code",
   "execution_count": 40,
   "id": "2e1132ad",
   "metadata": {},
   "outputs": [
    {
     "name": "stdout",
     "output_type": "stream",
     "text": [
      "General information on the DataFrame\n",
      "<class 'pandas.core.frame.DataFrame'>\n",
      "RangeIndex: 891 entries, 0 to 890\n",
      "Data columns (total 12 columns):\n",
      " #   Column       Non-Null Count  Dtype  \n",
      "---  ------       --------------  -----  \n",
      " 0   PassengerId  891 non-null    int64  \n",
      " 1   Survived     891 non-null    int64  \n",
      " 2   Pclass       891 non-null    int64  \n",
      " 3   Name         891 non-null    object \n",
      " 4   Sex          891 non-null    object \n",
      " 5   Age          714 non-null    float64\n",
      " 6   SibSp        891 non-null    int64  \n",
      " 7   Parch        891 non-null    int64  \n",
      " 8   Ticket       891 non-null    object \n",
      " 9   Fare         891 non-null    float64\n",
      " 10  Cabin        204 non-null    object \n",
      " 11  Embarked     889 non-null    object \n",
      "dtypes: float64(2), int64(5), object(5)\n",
      "memory usage: 83.7+ KB\n"
     ]
    }
   ],
   "source": [
    "# General information\n",
    "print(\"General information on the DataFrame\")\n",
    "train.info(verbose = True)"
   ]
  },
  {
   "cell_type": "markdown",
   "id": "0a9a6e5e",
   "metadata": {},
   "source": [
    "### step 1: descriptive analysis"
   ]
  },
  {
   "cell_type": "code",
   "execution_count": 41,
   "id": "47ba1eb6",
   "metadata": {},
   "outputs": [
    {
     "data": {
      "text/plain": [
       "3    491\n",
       "1    216\n",
       "2    184\n",
       "Name: Pclass, dtype: int64"
      ]
     },
     "execution_count": 41,
     "metadata": {},
     "output_type": "execute_result"
    }
   ],
   "source": [
    "\n",
    "train['Pclass'].value_counts()"
   ]
  },
  {
   "cell_type": "code",
   "execution_count": 42,
   "id": "80982e39",
   "metadata": {},
   "outputs": [
    {
     "data": {
      "text/plain": [
       "<AxesSubplot: >"
      ]
     },
     "execution_count": 42,
     "metadata": {},
     "output_type": "execute_result"
    },
    {
     "data": {
      "image/png": "[encoded data removed]",
      "text/plain": [
       "<Figure size 640x480 with 1 Axes>"
      ]
     },
     "metadata": {},
     "output_type": "display_data"
    }
   ],
   "source": [
    "train['SibSp'].unique()\n",
    "train['SibSp'].value_counts().plot(kind = 'bar')"
   ]
  },
  {
   "cell_type": "code",
   "execution_count": 43,
   "id": "6ddfaa39",
   "metadata": {},
   "outputs": [
    {
     "data": {
      "text/plain": [
       "<AxesSubplot: >"
      ]
     },
     "execution_count": 43,
     "metadata": {},
     "output_type": "execute_result"
    },
    {
     "data": {
      "image/png": "[encoded data removed]",
      "text/plain": [
       "<Figure size 640x480 with 1 Axes>"
      ]
     },
     "metadata": {},
     "output_type": "display_data"
    }
   ],
   "source": [
    "train['Parch'].value_counts().plot(kind = 'bar')"
   ]
  },
  {
   "cell_type": "code",
   "execution_count": 44,
   "id": "ebb97903",
   "metadata": {},
   "outputs": [
    {
     "data": {
      "text/plain": [
       "<AxesSubplot: >"
      ]
     },
     "execution_count": 44,
     "metadata": {},
     "output_type": "execute_result"
    },
    {
     "data": {
      "image/png": "[encoded data removed]",
      "text/plain": [
       "<Figure size 640x480 with 1 Axes>"
      ]
     },
     "metadata": {},
     "output_type": "display_data"
    }
   ],
   "source": [
    "train['Embarked'].value_counts().plot(kind = 'bar')"
   ]
  },
  {
   "cell_type": "code",
   "execution_count": 45,
   "id": "db4468ad",
   "metadata": {},
   "outputs": [
    {
     "data": {
      "image/png": "[encoded data removed]",
      "text/plain": [
       "<Figure size 640x480 with 1 Axes>"
      ]
     },
     "metadata": {},
     "output_type": "display_data"
    }
   ],
   "source": [
    "   #knowing balanced or imbalanced data on target variable\n",
    "grouped = train.groupby('Survived').size()\n",
    "grouped = grouped.apply(lambda x: x / len(train) * 100)\n",
    "grouped.plot(kind='bar')\n",
    "plt.ylabel(\"%\")\n",
    "plt.xlabel(\"0-died   1-Survived\")\n",
    "plt.title(\"Survivors and deaths\")\n",
    "plt.show()"
   ]
  },
  {
   "cell_type": "markdown",
   "id": "de4c7cd1",
   "metadata": {},
   "source": [
    "### Cross statistics"
   ]
  },
  {
   "cell_type": "code",
   "execution_count": 46,
   "id": "6da0bcbb",
   "metadata": {},
   "outputs": [
    {
     "data": {
      "text/plain": [
       "<seaborn.axisgrid.FacetGrid at 0x1f19e61ee60>"
      ]
     },
     "execution_count": 46,
     "metadata": {},
     "output_type": "execute_result"
    },
    {
     "data": {
      "image/png": "[encoded data removed]",
      "text/plain": [
       "<Figure size 598x500 with 1 Axes>"
      ]
     },
     "metadata": {},
     "output_type": "display_data"
    }
   ],
   "source": [
    "x=\"Survived\"\n",
    "y=\"Sex\"\n",
    "(train.groupby(x)[y].value_counts(normalize=True)\n",
    ".mul(100)\n",
    ".rename('percent')\n",
    ".reset_index()\n",
    ".pipe((sns.catplot,'data'), x=x,y='percent',hue=y,kind='bar'))"
   ]
  },
  {
   "cell_type": "markdown",
   "id": "2aee2fc6",
   "metadata": {},
   "source": [
    "More than 65% of survivors passengers where women, and 85% of deaths was men."
   ]
  },
  {
   "cell_type": "code",
   "execution_count": 47,
   "id": "cb1e8335",
   "metadata": {},
   "outputs": [
    {
     "data": {
      "text/plain": [
       "<seaborn.axisgrid.FacetGrid at 0x1f19c6595d0>"
      ]
     },
     "execution_count": 47,
     "metadata": {},
     "output_type": "execute_result"
    },
    {
     "data": {
      "image/png": "[encoded data removed]",
      "text/plain": [
       "<Figure size 558.875x500 with 1 Axes>"
      ]
     },
     "metadata": {},
     "output_type": "display_data"
    }
   ],
   "source": [
    "x=\"Survived\"\n",
    "y=\"Pclass\"\n",
    "(train.groupby(x)[y].value_counts(normalize=True)\n",
    ".mul(100)\n",
    ".rename('percent')\n",
    ".reset_index()\n",
    ".pipe((sns.catplot,'data'), x=x,y='percent',hue=y,kind='bar'))"
   ]
  },
  {
   "cell_type": "markdown",
   "id": "218f7dc8",
   "metadata": {},
   "source": [
    "Around 70% of passengers who died were in class 3."
   ]
  },
  {
   "cell_type": "markdown",
   "id": "a7a4cfc5",
   "metadata": {},
   "source": [
    "#### Missing values treat"
   ]
  },
  {
   "cell_type": "code",
   "execution_count": 48,
   "id": "4d062782",
   "metadata": {},
   "outputs": [
    {
     "data": {
      "text/plain": [
       "PassengerId     0.000000\n",
       "Survived        0.000000\n",
       "Pclass          0.000000\n",
       "Name            0.000000\n",
       "Sex             0.000000\n",
       "Age            19.865320\n",
       "SibSp           0.000000\n",
       "Parch           0.000000\n",
       "Ticket          0.000000\n",
       "Fare            0.000000\n",
       "Cabin          77.104377\n",
       "Embarked        0.224467\n",
       "dtype: float64"
      ]
     },
     "execution_count": 48,
     "metadata": {},
     "output_type": "execute_result"
    }
   ],
   "source": [
    "train.isnull().mean()*100"
   ]
  },
  {
   "cell_type": "markdown",
   "id": "c1f36d7e",
   "metadata": {},
   "source": [
    "There are more than 75% of missing values concerning the variable Cabin. For our study , we are not going to consider it as a feature.\n",
    "The next variables having missing values is Age, less than 25% of missing values and Embarked with less than 1 of missiong values.\n",
    "To deal with missing values in the Age variable, we have decided to impute the mean; and for the Embarked variable, we are simply going to delete observations with no value for this variable."
   ]
  },
  {
   "cell_type": "code",
   "execution_count": 49,
   "id": "b7290f96",
   "metadata": {},
   "outputs": [],
   "source": [
    "#delete observations with missing values on Embarked \n",
    "train.dropna(subset = ['Embarked'], axis = 0, inplace =True)\n",
    "# iimpute the mean of Age\n",
    "mean_age = train['Age'].mean()\n",
    "train['Age'] = train['Age'].fillna(mean_age)"
   ]
  },
  {
   "cell_type": "code",
   "execution_count": 50,
   "id": "c350964f",
   "metadata": {},
   "outputs": [
    {
     "name": "stdout",
     "output_type": "stream",
     "text": [
      "<class 'pandas.core.frame.DataFrame'>\n",
      "Int64Index: 889 entries, 0 to 890\n",
      "Data columns (total 12 columns):\n",
      " #   Column       Non-Null Count  Dtype  \n",
      "---  ------       --------------  -----  \n",
      " 0   PassengerId  889 non-null    int64  \n",
      " 1   Survived     889 non-null    int64  \n",
      " 2   Pclass       889 non-null    int64  \n",
      " 3   Name         889 non-null    object \n",
      " 4   Sex          889 non-null    object \n",
      " 5   Age          889 non-null    float64\n",
      " 6   SibSp        889 non-null    int64  \n",
      " 7   Parch        889 non-null    int64  \n",
      " 8   Ticket       889 non-null    object \n",
      " 9   Fare         889 non-null    float64\n",
      " 10  Cabin        202 non-null    object \n",
      " 11  Embarked     889 non-null    object \n",
      "dtypes: float64(2), int64(5), object(5)\n",
      "memory usage: 90.3+ KB\n"
     ]
    }
   ],
   "source": [
    "train.info()"
   ]
  },
  {
   "cell_type": "markdown",
   "id": "c4671d74",
   "metadata": {},
   "source": [
    "#### Label encoding"
   ]
  },
  {
   "cell_type": "code",
   "execution_count": 51,
   "id": "a8a07bd5",
   "metadata": {},
   "outputs": [],
   "source": [
    "train.loc[:, 'genre'] = train['Sex'].map({'female': 0, 'male': 1})\n",
    "test.loc[:, 'genre'] = test['Sex'].map({'female': 0, 'male': 1})\n",
    "\n",
    "train.loc[:, 'Embarked_label'] = train['Embarked'].map({'S': 0, 'C': 1, 'Q': 2})\n",
    "test.loc[:, 'Embarked_label'] = test['Embarked'].map({'S': 0, 'C': 1, 'Q': 2})"
   ]
  },
  {
   "cell_type": "markdown",
   "id": "3c6233f2",
   "metadata": {},
   "source": [
    "#### Correlation Matrix between features"
   ]
  },
  {
   "cell_type": "code",
   "execution_count": 52,
   "id": "fbc33199",
   "metadata": {},
   "outputs": [
    {
     "name": "stderr",
     "output_type": "stream",
     "text": [
      "C:\\Users\\aurel\\AppData\\Local\\Temp\\ipykernel_12940\\2715194678.py:6: DeprecationWarning: `np.bool` is a deprecated alias for the builtin `bool`. To silence this warning, use `bool` by itself. Doing this will not modify any behavior and is safe. If you specifically wanted the numpy scalar type, use `np.bool_` here.\n",
      "Deprecated in NumPy 1.20; for more details and guidance: https://numpy.org/devdocs/release/1.20.0-notes.html#deprecations\n",
      "  mask = np.triu(np.ones_like(corr, dtype=np.bool))\n"
     ]
    },
    {
     "data": {
      "image/png": "[encoded data removed]",
      "text/plain": [
       "<Figure size 1100x900 with 2 Axes>"
      ]
     },
     "metadata": {},
     "output_type": "display_data"
    }
   ],
   "source": [
    "features = ['Survived','Pclass', 'Age', 'genre', 'SibSp','Parch', 'Fare', 'Embarked_label']\n",
    "# Compute the correlation matrix\n",
    "corr = train[features].corr()\n",
    "\n",
    "# Generate a mask for the upper triangle\n",
    "mask = np.triu(np.ones_like(corr, dtype=np.bool))\n",
    "\n",
    "\n",
    "f, ax = plt.subplots(figsize=(11, 9))\n",
    "cmap = sns.diverging_palette(220, 10, as_cmap=True)\n",
    "sns.heatmap(corr, mask=mask, cmap=cmap, vmax=.3, center=0,\n",
    "            square=True, linewidths=.5, cbar_kws={\"shrink\": .5})\n",
    "\n",
    "plt.show()"
   ]
  },
  {
   "cell_type": "code",
   "execution_count": 60,
   "id": "36759ad3",
   "metadata": {},
   "outputs": [
    {
     "name": "stdout",
     "output_type": "stream",
     "text": [
      "                Survived    Pclass       Age     genre     SibSp     Parch  \\\n",
      "Survived        1.000000 -0.335549 -0.074513 -0.541585 -0.034040  0.083151   \n",
      "Pclass         -0.335549  1.000000 -0.328256  0.127741  0.081656  0.016824   \n",
      "Age            -0.074513 -0.328256  1.000000  0.089339 -0.231908 -0.178013   \n",
      "genre          -0.541585  0.127741  0.089339  1.000000 -0.116348 -0.247508   \n",
      "SibSp          -0.034040  0.081656 -0.231908 -0.116348  1.000000  0.414542   \n",
      "Parch           0.083151  0.016824 -0.178013 -0.247508  0.414542  1.000000   \n",
      "Fare            0.255290 -0.548193  0.088780 -0.179958  0.160887  0.217532   \n",
      "Embarked_label  0.108669  0.043835  0.008940 -0.118593 -0.060606 -0.079320   \n",
      "\n",
      "                    Fare  Embarked_label  \n",
      "Survived        0.255290        0.108669  \n",
      "Pclass         -0.548193        0.043835  \n",
      "Age             0.088780        0.008940  \n",
      "genre          -0.179958       -0.118593  \n",
      "SibSp           0.160887       -0.060606  \n",
      "Parch           0.217532       -0.079320  \n",
      "Fare            1.000000        0.063462  \n",
      "Embarked_label  0.063462        1.000000  \n"
     ]
    }
   ],
   "source": [
    "print(corr)"
   ]
  },
  {
   "cell_type": "markdown",
   "id": "246fd4fc",
   "metadata": {},
   "source": [
    "After analysing the correlation matrix, we decided to ignore the SibSp, Parch, Embarked_label and Age variables in the rest of our study. This choice is explained by the low correlation between this variable and the target variable of the study."
   ]
  },
  {
   "cell_type": "markdown",
   "id": "a073d600",
   "metadata": {},
   "source": [
    "## Classification"
   ]
  },
  {
   "cell_type": "markdown",
   "id": "13122ed9",
   "metadata": {},
   "source": [
    "#### Construction of the training and test sets"
   ]
  },
  {
   "cell_type": "code",
   "execution_count": 70,
   "id": "b44f7ffc",
   "metadata": {},
   "outputs": [],
   "source": [
    "#Training and test set\n",
    "features = ['Pclass', 'genre',  'Fare']\n",
    "X = train[features]\n",
    "y = train['Survived']\n",
    "\n",
    "X_train, X_test, y_train, y_test = train_test_split(X, y, test_size=0.2, random_state=0, stratify=y)\n",
    "\n",
    "\n",
    "# Select features to scale\n",
    "features_to_scale = ['Fare']\n",
    "scaler = MinMaxScaler()\n",
    "\n",
    "# Fit and transform the selected features\n",
    "X_train[features_to_scale] = scaler.fit_transform(X_train[features_to_scale])\n",
    "X_test[features_to_scale] = scaler.fit_transform(X_test[features_to_scale])\n",
    "test[features_to_scale] = scaler.fit_transform(test[features_to_scale])"
   ]
  },
  {
   "cell_type": "markdown",
   "id": "f9992a20",
   "metadata": {},
   "source": [
    "### KNeighbors Classifier with selected features  without correlated variables\n",
    "\n",
    "First, we will train the model with different hyperparameters to identify the ideal hyperparameter for our classification.\n",
    "Next, we will train the model with the hyperparameter identified. In the rest of our project, we choose 7 as the hyper parameter on the basis of the accuracy and its confidence interval. "
   ]
  },
  {
   "cell_type": "code",
   "execution_count": 71,
   "id": "6277ce12",
   "metadata": {},
   "outputs": [
    {
     "name": "stdout",
     "output_type": "stream",
     "text": [
      "Best hyperparameter(s) on the training set.:\n",
      "{'n_neighbors': 5}\n",
      "Cross-validation results. :\n",
      "accuracy = 0.779 (+/-0.040) for {'n_neighbors': 3}\n",
      "accuracy = 0.789 (+/-0.038) for {'n_neighbors': 5}\n",
      "accuracy = 0.786 (+/-0.050) for {'n_neighbors': 7}\n",
      "Execution time: 0.0993187999993097\n"
     ]
    }
   ],
   "source": [
    "start = time.perf_counter()\n",
    "\n",
    "# values of the hyperparameters to be tested.\n",
    "param_grid = {'n_neighbors':[3, 5, 7]}\n",
    "\n",
    "score = 'accuracy'\n",
    "\n",
    "# kNN classifier with hyperparameter search using cross-validation.\n",
    "clf = GridSearchCV(\n",
    "    KNeighborsClassifier(), \n",
    "    param_grid,     \n",
    "    cv=3,           \n",
    "    scoring=score   \n",
    ")\n",
    "\n",
    "clf.fit(X_train, y_train)\n",
    "\n",
    "print(\"Best hyperparameter(s) on the training set.:\")\n",
    "print(clf.best_params_)\n",
    "print(\"Cross-validation results. :\")\n",
    "for mean, std, params in zip(\n",
    "        clf.cv_results_['mean_test_score'], # average score\n",
    "        clf.cv_results_['std_test_score'],  # standard deviation of score\n",
    "        clf.cv_results_['params']           # hyperparameter value\n",
    "    ):\n",
    "\n",
    "    print(\"{} = {:.3f} (+/-{:.03f}) for {}\".format(\n",
    "        score,\n",
    "        mean,\n",
    "        std*2,\n",
    "        params\n",
    "    ) )\n",
    "\n",
    "end = time.perf_counter()\n",
    "print(\"Execution time:\", end - start)"
   ]
  },
  {
   "cell_type": "markdown",
   "id": "03fa9efb",
   "metadata": {},
   "source": [
    "Now let's train our model and evaluate it."
   ]
  },
  {
   "cell_type": "code",
   "execution_count": 72,
   "id": "e75ad584",
   "metadata": {},
   "outputs": [
    {
     "data": {
      "text/html": [
       "<style>#sk-container-id-4 {color: black;background-color: white;}#sk-container-id-4 pre{padding: 0;}#sk-container-id-4 div.sk-toggleable {background-color: white;}#sk-container-id-4 label.sk-toggleable__label {cursor: pointer;display: block;width: 100%;margin-bottom: 0;padding: 0.3em;box-sizing: border-box;text-align: center;}#sk-container-id-4 label.sk-toggleable__label-arrow:before {content: \"▸\";float: left;margin-right: 0.25em;color: #696969;}#sk-container-id-4 label.sk-toggleable__label-arrow:hover:before {color: black;}#sk-container-id-4 div.sk-estimator:hover label.sk-toggleable__label-arrow:before {color: black;}#sk-container-id-4 div.sk-toggleable__content {max-height: 0;max-width: 0;overflow: hidden;text-align: left;background-color: #f0f8ff;}#sk-container-id-4 div.sk-toggleable__content pre {margin: 0.2em;color: black;border-radius: 0.25em;background-color: #f0f8ff;}#sk-container-id-4 input.sk-toggleable__control:checked~div.sk-toggleable__content {max-height: 200px;max-width: 100%;overflow: auto;}#sk-container-id-4 input.sk-toggleable__control:checked~label.sk-toggleable__label-arrow:before {content: \"▾\";}#sk-container-id-4 div.sk-estimator input.sk-toggleable__control:checked~label.sk-toggleable__label {background-color: #d4ebff;}#sk-container-id-4 div.sk-label input.sk-toggleable__control:checked~label.sk-toggleable__label {background-color: #d4ebff;}#sk-container-id-4 input.sk-hidden--visually {border: 0;clip: rect(1px 1px 1px 1px);clip: rect(1px, 1px, 1px, 1px);height: 1px;margin: -1px;overflow: hidden;padding: 0;position: absolute;width: 1px;}#sk-container-id-4 div.sk-estimator {font-family: monospace;background-color: #f0f8ff;border: 1px dotted black;border-radius: 0.25em;box-sizing: border-box;margin-bottom: 0.5em;}#sk-container-id-4 div.sk-estimator:hover {background-color: #d4ebff;}#sk-container-id-4 div.sk-parallel-item::after {content: \"\";width: 100%;border-bottom: 1px solid gray;flex-grow: 1;}#sk-container-id-4 div.sk-label:hover label.sk-toggleable__label {background-color: #d4ebff;}#sk-container-id-4 div.sk-serial::before {content: \"\";position: absolute;border-left: 1px solid gray;box-sizing: border-box;top: 0;bottom: 0;left: 50%;z-index: 0;}#sk-container-id-4 div.sk-serial {display: flex;flex-direction: column;align-items: center;background-color: white;padding-right: 0.2em;padding-left: 0.2em;position: relative;}#sk-container-id-4 div.sk-item {position: relative;z-index: 1;}#sk-container-id-4 div.sk-parallel {display: flex;align-items: stretch;justify-content: center;background-color: white;position: relative;}#sk-container-id-4 div.sk-item::before, #sk-container-id-4 div.sk-parallel-item::before {content: \"\";position: absolute;border-left: 1px solid gray;box-sizing: border-box;top: 0;bottom: 0;left: 50%;z-index: -1;}#sk-container-id-4 div.sk-parallel-item {display: flex;flex-direction: column;z-index: 1;position: relative;background-color: white;}#sk-container-id-4 div.sk-parallel-item:first-child::after {align-self: flex-end;width: 50%;}#sk-container-id-4 div.sk-parallel-item:last-child::after {align-self: flex-start;width: 50%;}#sk-container-id-4 div.sk-parallel-item:only-child::after {width: 0;}#sk-container-id-4 div.sk-dashed-wrapped {border: 1px dashed gray;margin: 0 0.4em 0.5em 0.4em;box-sizing: border-box;padding-bottom: 0.4em;background-color: white;}#sk-container-id-4 div.sk-label label {font-family: monospace;font-weight: bold;display: inline-block;line-height: 1.2em;}#sk-container-id-4 div.sk-label-container {text-align: center;}#sk-container-id-4 div.sk-container {/* jupyter's `normalize.less` sets `[hidden] { display: none; }` but bootstrap.min.css set `[hidden] { display: none !important; }` so we also need the `!important` here to be able to override the default hidden behavior on the sphinx rendered scikit-learn.org. See: https://github.com/scikit-learn/scikit-learn/issues/21755 */display: inline-block !important;position: relative;}#sk-container-id-4 div.sk-text-repr-fallback {display: none;}</style><div id=\"sk-container-id-4\" class=\"sk-top-container\"><div class=\"sk-text-repr-fallback\"><pre>KNeighborsClassifier(n_neighbors=7)</pre><b>In a Jupyter environment, please rerun this cell to show the HTML representation or trust the notebook. <br />On GitHub, the HTML representation is unable to render, please try loading this page with nbviewer.org.</b></div><div class=\"sk-container\" hidden><div class=\"sk-item\"><div class=\"sk-estimator sk-toggleable\"><input class=\"sk-toggleable__control sk-hidden--visually\" id=\"sk-estimator-id-6\" type=\"checkbox\" checked><label for=\"sk-estimator-id-6\" class=\"sk-toggleable__label sk-toggleable__label-arrow\">KNeighborsClassifier</label><div class=\"sk-toggleable__content\"><pre>KNeighborsClassifier(n_neighbors=7)</pre></div></div></div></div></div>"
      ],
      "text/plain": [
       "KNeighborsClassifier(n_neighbors=7)"
      ]
     },
     "execution_count": 72,
     "metadata": {},
     "output_type": "execute_result"
    }
   ],
   "source": [
    "clf = KNeighborsClassifier(n_neighbors = 7)\n",
    "clf.fit(X_train, y_train)"
   ]
  },
  {
   "cell_type": "code",
   "execution_count": 73,
   "id": "ae1f6311",
   "metadata": {},
   "outputs": [
    {
     "name": "stdout",
     "output_type": "stream",
     "text": [
      "Accuracy on test set: 0.8314606741573034\n",
      "Precision on test set: 0.8304576905986162\n",
      "Recall: on test set 0.8314606741573034\n",
      "Accuracy on training set: 0.8227848101265823\n",
      "Precision on training set: 0.8241077088294302\n",
      "Recall: on training set 0.8227848101265823\n",
      "    0   1\n",
      "0  99  11\n",
      "1  19  49\n",
      "Execution time: 14.543447800009744\n"
     ]
    },
    {
     "data": {
      "image/png": "[encoded data removed]",
      "text/plain": [
       "<Figure size 640x480 with 2 Axes>"
      ]
     },
     "metadata": {},
     "output_type": "display_data"
    }
   ],
   "source": [
    "y_pred_test = clf.predict(X_test)\n",
    "y_pred_train = clf.predict(X_train)\n",
    "\n",
    "# evaluate the model using accuracy, precision, recall, and F1-score\n",
    "accuracy_test = accuracy_score(y_test, y_pred_test)\n",
    "precision_test = precision_score(y_test, y_pred_test, average='weighted')\n",
    "recall_test = recall_score(y_test, y_pred_test, average='weighted')\n",
    "\n",
    "\n",
    "accuracy_training = accuracy_score(y_train, y_pred_train)\n",
    "precision_training = precision_score(y_train, y_pred_train, average='weighted')\n",
    "recall_training = recall_score(y_train, y_pred_train, average='weighted')\n",
    "\n",
    "\n",
    "print(\"Accuracy on test set:\", accuracy_test)\n",
    "print(\"Precision on test set:\", precision_test)\n",
    "print(\"Recall: on test set\", recall_test)\n",
    "\n",
    "\n",
    "print(\"Accuracy on training set:\", accuracy_training)\n",
    "print(\"Precision on training set:\", precision_training)\n",
    "print(\"Recall: on training set\", recall_training)\n",
    "\n",
    "\n",
    "# calculate the confusion matrix\n",
    "conf_matrix = confusion_matrix(y_test, y_pred_test)\n",
    "\n",
    "# convert to a DataFrame\n",
    "df_conf_matrix = pd.DataFrame(conf_matrix, index=clf.classes_, columns=clf.classes_)\n",
    "\n",
    "df_conf_matrix = df_conf_matrix.astype(int)\n",
    "\n",
    "# print the matrix\n",
    "print(df_conf_matrix)\n",
    "sns.heatmap(df_conf_matrix, annot = True, cmap = 'Blues')\n",
    "\n",
    "end = time.perf_counter()\n",
    "print(\"Execution time:\", end - start)"
   ]
  },
  {
   "cell_type": "markdown",
   "id": "0ed8eb7d",
   "metadata": {},
   "source": [
    "Now we can make the prediction on the test set given as part of the project."
   ]
  },
  {
   "cell_type": "code",
   "execution_count": 77,
   "id": "e732e26d",
   "metadata": {},
   "outputs": [
    {
     "data": {
      "text/html": [
       "<div>\n",
       "<style scoped>\n",
       "    .dataframe tbody tr th:only-of-type {\n",
       "        vertical-align: middle;\n",
       "    }\n",
       "\n",
       "    .dataframe tbody tr th {\n",
       "        vertical-align: top;\n",
       "    }\n",
       "\n",
       "    .dataframe thead th {\n",
       "        text-align: right;\n",
       "    }\n",
       "</style>\n",
       "<table border=\"1\" class=\"dataframe\">\n",
       "  <thead>\n",
       "    <tr style=\"text-align: right;\">\n",
       "      <th></th>\n",
       "      <th>Pclass</th>\n",
       "      <th>Name</th>\n",
       "      <th>Sex</th>\n",
       "      <th>Age</th>\n",
       "      <th>SibSp</th>\n",
       "      <th>Parch</th>\n",
       "      <th>Ticket</th>\n",
       "      <th>Fare</th>\n",
       "      <th>Cabin</th>\n",
       "      <th>Embarked</th>\n",
       "      <th>genre</th>\n",
       "      <th>Embarked_label</th>\n",
       "    </tr>\n",
       "    <tr>\n",
       "      <th>PassengerId</th>\n",
       "      <th></th>\n",
       "      <th></th>\n",
       "      <th></th>\n",
       "      <th></th>\n",
       "      <th></th>\n",
       "      <th></th>\n",
       "      <th></th>\n",
       "      <th></th>\n",
       "      <th></th>\n",
       "      <th></th>\n",
       "      <th></th>\n",
       "      <th></th>\n",
       "    </tr>\n",
       "  </thead>\n",
       "  <tbody>\n",
       "    <tr>\n",
       "      <th>892</th>\n",
       "      <td>3</td>\n",
       "      <td>Kelly, Mr. James</td>\n",
       "      <td>male</td>\n",
       "      <td>34.5</td>\n",
       "      <td>0</td>\n",
       "      <td>0</td>\n",
       "      <td>330911</td>\n",
       "      <td>0.015282</td>\n",
       "      <td>NaN</td>\n",
       "      <td>Q</td>\n",
       "      <td>1</td>\n",
       "      <td>2</td>\n",
       "    </tr>\n",
       "    <tr>\n",
       "      <th>893</th>\n",
       "      <td>3</td>\n",
       "      <td>Wilkes, Mrs. James (Ellen Needs)</td>\n",
       "      <td>female</td>\n",
       "      <td>47.0</td>\n",
       "      <td>1</td>\n",
       "      <td>0</td>\n",
       "      <td>363272</td>\n",
       "      <td>0.013663</td>\n",
       "      <td>NaN</td>\n",
       "      <td>S</td>\n",
       "      <td>0</td>\n",
       "      <td>0</td>\n",
       "    </tr>\n",
       "    <tr>\n",
       "      <th>894</th>\n",
       "      <td>2</td>\n",
       "      <td>Myles, Mr. Thomas Francis</td>\n",
       "      <td>male</td>\n",
       "      <td>62.0</td>\n",
       "      <td>0</td>\n",
       "      <td>0</td>\n",
       "      <td>240276</td>\n",
       "      <td>0.018909</td>\n",
       "      <td>NaN</td>\n",
       "      <td>Q</td>\n",
       "      <td>1</td>\n",
       "      <td>2</td>\n",
       "    </tr>\n",
       "    <tr>\n",
       "      <th>895</th>\n",
       "      <td>3</td>\n",
       "      <td>Wirz, Mr. Albert</td>\n",
       "      <td>male</td>\n",
       "      <td>27.0</td>\n",
       "      <td>0</td>\n",
       "      <td>0</td>\n",
       "      <td>315154</td>\n",
       "      <td>0.016908</td>\n",
       "      <td>NaN</td>\n",
       "      <td>S</td>\n",
       "      <td>1</td>\n",
       "      <td>0</td>\n",
       "    </tr>\n",
       "    <tr>\n",
       "      <th>896</th>\n",
       "      <td>3</td>\n",
       "      <td>Hirvonen, Mrs. Alexander (Helga E Lindqvist)</td>\n",
       "      <td>female</td>\n",
       "      <td>22.0</td>\n",
       "      <td>1</td>\n",
       "      <td>1</td>\n",
       "      <td>3101298</td>\n",
       "      <td>0.023984</td>\n",
       "      <td>NaN</td>\n",
       "      <td>S</td>\n",
       "      <td>0</td>\n",
       "      <td>0</td>\n",
       "    </tr>\n",
       "  </tbody>\n",
       "</table>\n",
       "</div>"
      ],
      "text/plain": [
       "             Pclass                                          Name     Sex  \\\n",
       "PassengerId                                                                 \n",
       "892               3                              Kelly, Mr. James    male   \n",
       "893               3              Wilkes, Mrs. James (Ellen Needs)  female   \n",
       "894               2                     Myles, Mr. Thomas Francis    male   \n",
       "895               3                              Wirz, Mr. Albert    male   \n",
       "896               3  Hirvonen, Mrs. Alexander (Helga E Lindqvist)  female   \n",
       "\n",
       "              Age  SibSp  Parch   Ticket      Fare Cabin Embarked  genre  \\\n",
       "PassengerId                                                                \n",
       "892          34.5      0      0   330911  0.015282   NaN        Q      1   \n",
       "893          47.0      1      0   363272  0.013663   NaN        S      0   \n",
       "894          62.0      0      0   240276  0.018909   NaN        Q      1   \n",
       "895          27.0      0      0   315154  0.016908   NaN        S      1   \n",
       "896          22.0      1      1  3101298  0.023984   NaN        S      0   \n",
       "\n",
       "             Embarked_label  \n",
       "PassengerId                  \n",
       "892                       2  \n",
       "893                       0  \n",
       "894                       2  \n",
       "895                       0  \n",
       "896                       0  "
      ]
     },
     "execution_count": 77,
     "metadata": {},
     "output_type": "execute_result"
    }
   ],
   "source": [
    "test.head()"
   ]
  },
  {
   "cell_type": "code",
   "execution_count": 81,
   "id": "ba1a3b0b",
   "metadata": {},
   "outputs": [
    {
     "data": {
      "text/plain": [
       "Pclass    0.000000\n",
       "genre     0.000000\n",
       "Fare      0.239234\n",
       "dtype: float64"
      ]
     },
     "execution_count": 81,
     "metadata": {},
     "output_type": "execute_result"
    }
   ],
   "source": [
    "test[features].isnull().mean()*100"
   ]
  },
  {
   "cell_type": "markdown",
   "id": "9444ecb0",
   "metadata": {},
   "source": [
    "We note that there are missing values for the features used in the te test set. These missing values concern the Fare variable, which represents the ticket price. The strategy adopted to deal with these missing values is to impute the average ticket value for the class to which the passenger belongs. We calculate these class averages on the train set, which contains more information."
   ]
  },
  {
   "cell_type": "code",
   "execution_count": 90,
   "id": "785da3df",
   "metadata": {},
   "outputs": [],
   "source": [
    "mean_per_class = train.groupby('Pclass')['Fare'].mean()\n",
    "test['Fare'] = test.apply(lambda row: mean_per_class[row['Pclass']] if pd.isna(row['Fare']) else row['Fare'], axis=1)"
   ]
  },
  {
   "cell_type": "code",
   "execution_count": 92,
   "id": "3ca1c776",
   "metadata": {},
   "outputs": [],
   "source": [
    "y_pred = clf.predict(test[features])"
   ]
  },
  {
   "cell_type": "code",
   "execution_count": 100,
   "id": "023288a7",
   "metadata": {},
   "outputs": [],
   "source": [
    "final_result = pd.DataFrame(y_pred, columns=['Survived'])\n",
    "\n",
    "# Specify the file path where you want to save the Excel file\n",
    "excel_file_path = 'C:/Users/aurel/Documents/GIT/data_titanic/result.xlsx'\n",
    "\n",
    "# Save the Pandas DataFrame to an Excel file\n",
    "final_result.to_excel(excel_file_path, index=False)"
   ]
  },
  {
   "cell_type": "code",
   "execution_count": null,
   "id": "7d84fd43",
   "metadata": {},
   "outputs": [],
   "source": []
  }
 ],
 "metadata": {
  "kernelspec": {
   "display_name": "Python 3 (ipykernel)",
   "language": "python",
   "name": "python3"
  },
  "language_info": {
   "codemirror_mode": {
    "name": "ipython",
    "version": 3
   },
   "file_extension": ".py",
   "mimetype": "text/x-python",
   "name": "python",
   "nbconvert_exporter": "python",
   "pygments_lexer": "ipython3",
   "version": "3.10.11"
  }
 },
 "nbformat": 4,
 "nbformat_minor": 5
}
